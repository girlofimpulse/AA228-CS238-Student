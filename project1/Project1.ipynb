{
  "nbformat": 4,
  "nbformat_minor": 0,
  "metadata": {
    "colab": {
      "provenance": [],
      "authorship_tag": "ABX9TyPujZGx0cyi+g9yORMTCrow",
      "include_colab_link": true
    },
    "kernelspec": {
      "name": "python3",
      "display_name": "Python 3"
    },
    "language_info": {
      "name": "python"
    }
  },
  "cells": [
    {
      "cell_type": "markdown",
      "metadata": {
        "id": "view-in-github",
        "colab_type": "text"
      },
      "source": [
        "<a href=\"https://colab.research.google.com/github/girlofimpulse/AA228-CS238-Student/blob/main/project1/Project1.ipynb\" target=\"_parent\"><img src=\"https://colab.research.google.com/assets/colab-badge.svg\" alt=\"Open In Colab\"/></a>"
      ]
    },
    {
      "cell_type": "code",
      "execution_count": null,
      "metadata": {
        "id": "qABjSGpybW6V"
      },
      "outputs": [],
      "source": [
        "import sys\n",
        "\n",
        "import networkx\n",
        "\n",
        "\n",
        "def write_gph(dag, idx2names, filename):\n",
        "    with open(filename, 'w') as f:\n",
        "        for edge in dag.edges():\n",
        "            f.write(\"{}, {}\\n\".format(idx2names[edge[0]], idx2names[edge[1]]))\n",
        "\n",
        "\n",
        "def compute(infile, outfile):\n",
        "    # WRITE YOUR CODE HERE\n",
        "    # FEEL FREE TO CHANGE ANYTHING ANYWHERE IN THE CODE\n",
        "    # THIS INCLUDES CHANGING THE FUNCTION NAMES, MAKING THE CODE MODULAR, BASICALLY ANYTHING\n",
        "    pass\n",
        "\n",
        "\n",
        "def main():\n",
        "    if len(sys.argv) != 3:\n",
        "        raise Exception(\"usage: python project1.py <infile>.csv <outfile>.gph\")\n",
        "\n",
        "    inputfilename = sys.argv[1]\n",
        "    outputfilename = sys.argv[2]\n",
        "    compute(inputfilename, outputfilename)\n",
        "\n",
        "\n",
        "if __name__ == '__main__':\n",
        "    main()"
      ]
    },
    {
      "cell_type": "code",
      "source": [
        "import sys\n",
        "\n",
        "import networkx\n",
        "import pandas as pd\n",
        "\n",
        "df_small = pd.read_csv(\"AA228-CS238-Student/project1/data/small.csv\")\n",
        "\n",
        "\n"
      ],
      "metadata": {
        "id": "FLdHeEFFdW75"
      },
      "execution_count": 1,
      "outputs": []
    },
    {
      "cell_type": "code",
      "source": [
        "# prompt: read from csv in a folder called Data\n",
        "\n",
        "import sys\n",
        "import networkx\n",
        "import pandas as pd\n",
        "\n",
        "\n",
        "\n",
        "def write_gph(dag, idx2names, filename):\n",
        "    with open(filename, 'w') as f:\n",
        "        for edge in dag.edges():\n",
        "            f.write(\"{}, {}\\n\".format(idx2names[edge[0]], idx2names[edge[1]]))\n",
        "\n",
        "\n",
        "def compute(infile, outfile):\n",
        "    # WRITE YOUR CODE HERE\n",
        "    # FEEL FREE TO CHANGE ANYTHING ANYWHERE IN THE CODE\n",
        "    # THIS INCLUDES CHANGING THE FUNCTION NAMES, MAKING THE CODE MODULAR, BASICALLY ANYTHING\n",
        "    df_small = pd.read_csv(\"AA228-CS238-Student/project1/data/small.csv\")\n",
        "    print(df_small)\n",
        "    # ... rest of your code to process the dataframe ...\n",
        "    pass\n",
        "\n",
        "\n",
        "def main():\n",
        "    if len(sys.argv) != 3:\n",
        "        raise Exception(\"usage: python project1.py <infile>.csv <outfile>.gph\")\n",
        "\n",
        "    inputfilename = sys.argv[1]\n",
        "    outputfilename = sys.argv[2]\n",
        "    compute(inputfilename, outputfilename)\n",
        "\n",
        "\n",
        "if __name__ == '__main__':\n",
        "    main()\n"
      ],
      "metadata": {
        "id": "P5zKdymDbX6q",
        "outputId": "5a9ebec5-6cb3-4c21-f9ae-58c2a85cd5cd",
        "colab": {
          "base_uri": "https://localhost:8080/"
        }
      },
      "execution_count": 11,
      "outputs": [
        {
          "output_type": "stream",
          "name": "stdout",
          "text": [
            "     age  portembarked  fare  numparentschildren  passengerclass  sex  \\\n",
            "0      1             1     1                   1               1    1   \n",
            "1      2             2     1                   1               2    2   \n",
            "2      1             1     1                   1               1    2   \n",
            "3      2             1     1                   1               2    2   \n",
            "4      2             1     1                   1               1    1   \n",
            "..   ...           ...   ...                 ...             ...  ...   \n",
            "884    2             1     1                   1               3    1   \n",
            "885    1             1     1                   1               2    2   \n",
            "886    2             1     1                   2               1    2   \n",
            "887    1             2     1                   1               2    1   \n",
            "888    2             3     1                   1               1    1   \n",
            "\n",
            "     numsiblings  survived  \n",
            "0              1         1  \n",
            "1              1         2  \n",
            "2              1         2  \n",
            "3              1         2  \n",
            "4              1         1  \n",
            "..           ...       ...  \n",
            "884            1         1  \n",
            "885            1         2  \n",
            "886            1         1  \n",
            "887            1         2  \n",
            "888            1         1  \n",
            "\n",
            "[889 rows x 8 columns]\n"
          ]
        }
      ]
    },
    {
      "cell_type": "code",
      "source": [
        "!git clone https://github.com/girlofimpulse/AA228-CS238-Student.git"
      ],
      "metadata": {
        "id": "Waax5d6Lehdn",
        "outputId": "2c229f00-2fb4-4f3c-865a-24dee07e6be2",
        "colab": {
          "base_uri": "https://localhost:8080/"
        }
      },
      "execution_count": 8,
      "outputs": [
        {
          "output_type": "stream",
          "name": "stdout",
          "text": [
            "Cloning into 'AA228-CS238-Student'...\n",
            "remote: Enumerating objects: 138, done.\u001b[K\n",
            "remote: Counting objects: 100% (67/67), done.\u001b[K\n",
            "remote: Compressing objects: 100% (50/50), done.\u001b[K\n",
            "remote: Total 138 (delta 21), reused 41 (delta 14), pack-reused 71 (from 1)\u001b[K\n",
            "Receiving objects: 100% (138/138), 3.84 MiB | 12.75 MiB/s, done.\n",
            "Resolving deltas: 100% (43/43), done.\n"
          ]
        }
      ]
    },
    {
      "cell_type": "code",
      "source": [],
      "metadata": {
        "id": "C_qP7hQqhCTK"
      },
      "execution_count": null,
      "outputs": []
    },
    {
      "cell_type": "code",
      "source": [],
      "metadata": {
        "id": "K14CAdHhgNWA",
        "outputId": "8efce5ef-5587-4b7c-b3ca-4975cc0d1062",
        "colab": {
          "base_uri": "https://localhost:8080/"
        }
      },
      "execution_count": 9,
      "outputs": [
        {
          "output_type": "stream",
          "name": "stdout",
          "text": [
            "AA228-CS238-Student  sample_data\n"
          ]
        }
      ]
    },
    {
      "cell_type": "code",
      "source": [],
      "metadata": {
        "id": "tuxpqeBJgzPs"
      },
      "execution_count": null,
      "outputs": []
    }
  ]
}