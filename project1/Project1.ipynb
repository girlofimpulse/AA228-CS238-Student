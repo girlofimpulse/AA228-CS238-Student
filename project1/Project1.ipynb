{
  "nbformat": 4,
  "nbformat_minor": 0,
  "metadata": {
    "colab": {
      "provenance": [],
      "authorship_tag": "ABX9TyNEGXbyXrTGdhSyBmWRPTeg",
      "include_colab_link": true
    },
    "kernelspec": {
      "name": "python3",
      "display_name": "Python 3"
    },
    "language_info": {
      "name": "python"
    }
  },
  "cells": [
    {
      "cell_type": "markdown",
      "metadata": {
        "id": "view-in-github",
        "colab_type": "text"
      },
      "source": [
        "<a href=\"https://colab.research.google.com/github/girlofimpulse/AA228-CS238-Student/blob/main/project1/Project1.ipynb\" target=\"_parent\"><img src=\"https://colab.research.google.com/assets/colab-badge.svg\" alt=\"Open In Colab\"/></a>"
      ]
    },
    {
      "cell_type": "code",
      "execution_count": 1,
      "metadata": {
        "id": "qABjSGpybW6V"
      },
      "outputs": [],
      "source": [
        "import sys\n",
        "\n",
        "import networkx\n",
        "\n",
        "\n",
        "def write_gph(dag, idx2names, filename):\n",
        "    with open(filename, 'w') as f:\n",
        "        for edge in dag.edges():\n",
        "            f.write(\"{}, {}\\n\".format(idx2names[edge[0]], idx2names[edge[1]]))\n",
        "\n",
        "\n",
        "def compute(infile, outfile):\n",
        "    # WRITE YOUR CODE HERE\n",
        "    # FEEL FREE TO CHANGE ANYTHING ANYWHERE IN THE CODE\n",
        "    # THIS INCLUDES CHANGING THE FUNCTION NAMES, MAKING THE CODE MODULAR, BASICALLY ANYTHING\n",
        "    pass\n",
        "\n",
        "\n",
        "def main():\n",
        "    if len(sys.argv) != 3:\n",
        "        raise Exception(\"usage: python project1.py <infile>.csv <outfile>.gph\")\n",
        "\n",
        "    inputfilename = sys.argv[1]\n",
        "    outputfilename = sys.argv[2]\n",
        "    compute(inputfilename, outputfilename)\n",
        "\n",
        "\n",
        "if __name__ == '__main__':\n",
        "    main()"
      ]
    },
    {
      "cell_type": "code",
      "source": [],
      "metadata": {
        "id": "P5zKdymDbX6q"
      },
      "execution_count": null,
      "outputs": []
    }
  ]
}